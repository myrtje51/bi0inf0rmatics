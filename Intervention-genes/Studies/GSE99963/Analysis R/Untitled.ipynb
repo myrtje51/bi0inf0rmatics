{
 "cells": [
  {
   "cell_type": "code",
   "execution_count": 2,
   "metadata": {},
   "outputs": [
    {
     "name": "stdout",
     "output_type": "stream",
     "text": [
      "0        ENSG00000164309\n",
      "1        ENSG00000182492\n",
      "2        ENSG00000156219\n",
      "3        ENSG00000013364\n",
      "4        ENSG00000170525\n",
      "              ...       \n",
      "60670    ENSG00000213780\n",
      "60671    ENSG00000129007\n",
      "60672    ENSG00000134874\n",
      "60673    ENSG00000114656\n",
      "60674    ENSG00000126698\n",
      "Name: gene, Length: 60675, dtype: object\n"
     ]
    }
   ],
   "source": [
    "import pandas as pd\n",
    "combined = pd.read_csv('results_exercise+diet_withcontr', sep='\\t')\n",
    "print(combined.gene)"
   ]
  },
  {
   "cell_type": "code",
   "execution_count": null,
   "metadata": {},
   "outputs": [],
   "source": []
  }
 ],
 "metadata": {
  "kernelspec": {
   "display_name": "Python 3",
   "language": "python",
   "name": "python3"
  },
  "language_info": {
   "codemirror_mode": {
    "name": "ipython",
    "version": 3
   },
   "file_extension": ".py",
   "mimetype": "text/x-python",
   "name": "python",
   "nbconvert_exporter": "python",
   "pygments_lexer": "ipython3",
   "version": "3.7.4"
  }
 },
 "nbformat": 4,
 "nbformat_minor": 2
}
