{
 "cells": [
  {
   "cell_type": "code",
   "execution_count": 1,
   "metadata": {},
   "outputs": [],
   "source": [
    "import pandas as pd\n",
    "\n",
    "def ACRfilter(): \n",
    "    \"\"\"\n",
    "    Functions: \n",
    "    This function should return a list of genes that are present in 2 or more categories. As input the Ageing Clusters Resource\n",
    "    is used. \n",
    "    \n",
    "    Variables: \n",
    "    ACR = the list of ageing related genes categorized in 4 different categories. \n",
    "    ACR_filter = the same list of ageing related genes but filtered by being present in two or more categories.\n",
    "    \"\"\"\n",
    "    ACR = pd.read_excel(\"10522_2017_9741_MOESM4_ESM.xls\")\n",
    "    ACR_filter = ACR[(ACR['Cate-gories']>1)] \n",
    "    ACR_filter.to_csv(\"Filtered_ACR.tsv\", sep='\\t')\n",
    "\n",
    "def main(): \n",
    "    ACRfilter()\n",
    "\n",
    "main() "
   ]
  },
  {
   "cell_type": "code",
   "execution_count": null,
   "metadata": {},
   "outputs": [],
   "source": []
  }
 ],
 "metadata": {
  "kernelspec": {
   "display_name": "Python 3",
   "language": "python",
   "name": "python3"
  },
  "language_info": {
   "codemirror_mode": {
    "name": "ipython",
    "version": 3
   },
   "file_extension": ".py",
   "mimetype": "text/x-python",
   "name": "python",
   "nbconvert_exporter": "python",
   "pygments_lexer": "ipython3",
   "version": "3.7.3"
  }
 },
 "nbformat": 4,
 "nbformat_minor": 2
}
