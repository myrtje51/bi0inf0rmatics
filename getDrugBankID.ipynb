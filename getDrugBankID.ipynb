{
 "cells": [
  {
   "cell_type": "code",
   "execution_count": 48,
   "metadata": {},
   "outputs": [],
   "source": [
    "#from bioservices import UniChem \n",
    "import pandas as pd \n",
    "import numpy as np\n",
    "\n",
    "def STITCHgetDBID():\n",
    "    structure_links = pd.read_csv(\"structure_links.csv\")\n",
    "    CID_InchiKey = pd.read_csv(\"resp_text.txt\")\n",
    "    CID_InchiKey = CID_InchiKey.drop_duplicates()\n",
    "    structure_links = structure_links.drop_duplicates() \n",
    "    CID_InchiKey['InChIKey']=CID_InchiKey['InChIKey'].astype(str)\n",
    "    structure_links['InChIKey']=structure_links['InChIKey'].astype(str)\n",
    "    merged = pd.merge(CID_InchiKey, structure_links, on=[\"InChIKey\"])\n",
    "    merged.to_csv(\"mapped_DB_CID.csv\", sep='\\t')\n",
    "\n",
    "def main(): \n",
    "    STITCHgetDBID()\n",
    "\n",
    "main() "
   ]
  },
  {
   "cell_type": "code",
   "execution_count": null,
   "metadata": {},
   "outputs": [],
   "source": []
  }
 ],
 "metadata": {
  "kernelspec": {
   "display_name": "Python 3",
   "language": "python",
   "name": "python3"
  },
  "language_info": {
   "codemirror_mode": {
    "name": "ipython",
    "version": 3
   },
   "file_extension": ".py",
   "mimetype": "text/x-python",
   "name": "python",
   "nbconvert_exporter": "python",
   "pygments_lexer": "ipython3",
   "version": "3.7.3"
  }
 },
 "nbformat": 4,
 "nbformat_minor": 2
}
