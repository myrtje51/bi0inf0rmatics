{
 "cells": [
  {
   "cell_type": "code",
   "execution_count": 25,
   "metadata": {},
   "outputs": [
    {
     "name": "stdout",
     "output_type": "stream",
     "text": [
      "mean: 375.3333333333333\n",
      "standard deviation: 1432.6865207248468\n"
     ]
    },
    {
     "data": {
      "text/plain": [
       "<Figure size 1800x1000 with 1 Axes>"
      ]
     },
     "metadata": {},
     "output_type": "display_data"
    }
   ],
   "source": [
    "import pandas as pd\n",
    "import numpy as np\n",
    "import matplotlib.pyplot as plt\n",
    "import statistics\n",
    "\n",
    "mapped = pd.read_csv('mapped_DB_STITCH.tsv', sep='\\t')\n",
    "mapped['protein'] = mapped['protein'].map(lambda x: x.lstrip('9606.'))\n",
    "new = mapped[['DrugBank ID', 'protein']].drop_duplicates()\n",
    "counts1 = list(new['DrugBank ID'].value_counts()) \n",
    "df = pd.DataFrame({'genes': counts1})\n",
    "bins = [0,200,400,600,800,1000,1200,1400,1600,1800,2000,2200,2400,2600,2800,3000]\n",
    "oef = pd.concat([df.groupby(pd.cut(df.genes, bins=bins)).genes.count()], axis = 1)\n",
    "lijst = []\n",
    "for x in oef['genes']:\n",
    "    lijst.append(x)\n",
    "\n",
    "print(\"mean:\", statistics.mean(lijst))\n",
    "print(\"standard deviation:\", statistics.stdev(lijst))\n",
    "lijst2 = ['0-200', '200-400', '400-600', '600-800', '800-1000', '1000-1200', '1200-1400', '1400-1600', '1600-1800', '1800-2000', '2000,2200', '2200-2400', '2400-2600', '2600-2800', '2800-3000']\n",
    "\n",
    "f, ax = plt.subplots(figsize=(18,10))\n",
    "plt.bar(lijst2, lijst)\n",
    "plt.show()\n"
   ]
  },
  {
   "cell_type": "code",
   "execution_count": 26,
   "metadata": {
    "scrolled": true
   },
   "outputs": [],
   "source": [
    "import numpy as np\n",
    "import scipy.stats as sstats\n",
    "import pandas as pd \n",
    "\n",
    "from collections import namedtuple\n",
    "\n",
    "class ProteinSet(object):\n",
    "    def __init__(self, proteindict):\n",
    "        self.proteindict = { name : set(p) for name, p in proteindict.items() }\n",
    "    \n",
    "    def enrich(self, otherset, background):\n",
    "        list_res = []\n",
    "        for name, pset in self.proteindict.items():\n",
    "            term = [name]\n",
    "            proteins = list(pset)\n",
    "            results = set_enrichment(pset, otherset, background)\n",
    "            l_results = list(results)\n",
    "            joined = term + l_results\n",
    "            joined.append(proteins)\n",
    "            list_res.append(joined)\n",
    "        \n",
    "        df_final = pd.DataFrame(list_res)\n",
    "        df_final.columns = ['Name', 'oddsratio', 'c2statistic', 'pvalue', 'table', 'method', 'proteins'] \n",
    "        return df_final\n",
    "    \n",
    "    def set_enrichment(your_set, other_set, universe, abcd_values=False):\n",
    "    \n",
    "        resTuple = namedtuple(\"setEnrichmentResult\", [ 'oddsratio', 'c2statistic', 'pvalue', 'table', 'method'])\n",
    "\n",
    "        universe  = set(universe)\n",
    "        your_set  = set(your_set) & universe\n",
    "        other_set = set(other_set) & universe\n",
    "\n",
    "        a = your_set & other_set\n",
    "        b = other_set - your_set\n",
    "        c = your_set - other_set\n",
    "        d = universe - (your_set | other_set)\n",
    "\n",
    "        table = [ [len(a), len(b)], [len(c), len(d)]]\n",
    "        if min(min(table)) <= 5:\n",
    "            method = 'fisher'\n",
    "            oddsratio, p = sstats.fisher_exact(table)\n",
    "            chi2 = None\n",
    "        else:\n",
    "            method = 'chi2'\n",
    "            chi2, p, dof, expected = sstats.chi2_contingency(table)\n",
    "            oddsratio = 100\n",
    "            if table[1][0] > 0 and table[0][1] > 0:\n",
    "                oddsratio = table[0][0] * table[1][1] / (table[1][0] * table[0][1])\n",
    "            else:\n",
    "                oddsratio = np.inf\n",
    "\n",
    "        if abcd_values:\n",
    "            return resTuple(oddsratio, chi2, p, [[a,b],[c,d]], method)\n",
    "        else:\n",
    "            return resTuple(oddsratio, chi2, p, table, method)\n",
    "\n",
    "def make_dictio_DT(): \n",
    "    mapped = pd.read_csv('mapped_DB_STITCH.tsv', sep='\\t')\n",
    "    mapped['protein'] = mapped['protein'].map(lambda x: x.lstrip('9606.'))\n",
    "    mapped = mapped[['CID', 'InChIKey', 'DrugBank ID', 'Name', 'protein', 'combined_score']].drop_duplicates()\n",
    "    \n",
    "    dictio = {}\n",
    "    for i in mapped['Name'].unique(): \n",
    "        dictio[i] = [mapped['protein'][j] for j in mapped[mapped['Name']==i].index]\n",
    "    \n",
    "    return dictio \n",
    "\n",
    "def entrez_to_protein(): \n",
    "    biomart_data = pd.read_csv(\"biomart.tsv\", \n",
    "                  sep='\\t', \n",
    "                  names=[\"gene\", \"transcript\", \"protein\", \"Entrez\", \"Uniprot\", \"name\"])\n",
    "    \n",
    "    \n",
    "    other_set1 = pd.read_csv(\"test_list_genes1.0.txt\")\n",
    "    get_ens = pd.merge(other_set1, biomart_data, on=[\"Entrez\"]) \n",
    "    get_ens = get_ens.dropna(subset=['protein'])\n",
    "    get_ens_filtered = get_ens.drop([\"gene\", \"transcript\", \"Uniprot\"], axis=1)\n",
    "    \n",
    "    return get_ens_filtered\n",
    "\n",
    "def main_ACR_DT():\n",
    "    ensembl = pd.read_csv('STITCH_proteins.txt')\n",
    "    dictio = make_dictio_DT()\n",
    "    get_ens_filtered = entrez_to_protein() \n",
    "    enrichment_call = ProteinSet(dictio)\n",
    "    df = enrichment_call.enrich(get_ens_filtered['protein'], ensembl['protein']) \n",
    "    #print(df)\n",
    "\n",
    "main_ACR_DT()\n",
    "            "
   ]
  }
 ],
 "metadata": {
  "kernelspec": {
   "display_name": "Python 3",
   "language": "python",
   "name": "python3"
  },
  "language_info": {
   "codemirror_mode": {
    "name": "ipython",
    "version": 3
   },
   "file_extension": ".py",
   "mimetype": "text/x-python",
   "name": "python",
   "nbconvert_exporter": "python",
   "pygments_lexer": "ipython3",
   "version": "3.7.3"
  }
 },
 "nbformat": 4,
 "nbformat_minor": 2
}
