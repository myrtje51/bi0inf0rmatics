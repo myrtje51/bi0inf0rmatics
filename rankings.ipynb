{
 "cells": [
  {
   "cell_type": "code",
   "execution_count": null,
   "metadata": {},
   "outputs": [],
   "source": [
    "from functools import reduce\n",
    "def first_ranking():\n",
    "    only_KEGG = enrich_ME[enrich_ME['Database'] == \"KEGG\"]\n",
    "    only_GO_MF = enrich_ME[enrich_ME['Database'] == \"GO_MF\"]\n",
    "    only_GO_CC = enrich_ME[enrich_ME['Database'] == \"GO_CC\"]\n",
    "    only_GO_BP = enrich_ME[enrich_ME['Database'] == \"GO_BP\"]\n",
    "    only_reactome = enrich_ME[enrich_ME['Database'] == \"Reactome\"]\n",
    "    only_gene_list = enrich_ME[enrich_ME['Database'] == \"gene_list\"]\n",
    "    only_string = enrich_ME[enrich_ME['Database'] == \"STRING\"]\n",
    "    \n",
    "    only_KEGG['Ranking_KEGG'] = only_KEGG['pvalue'].rank()\n",
    "    \n",
    "    only_GO_MF['Ranking_GO_MF'] = only_GO_MF['pvalue'].rank()\n",
    "    \n",
    "    only_GO_CC['Ranking_GO_CC'] = only_GO_CC['pvalue'].rank()\n",
    "    \n",
    "    only_GO_BP['Ranking_GO_BP'] = only_GO_BP['pvalue'].rank()\n",
    "    \n",
    "    only_reactome['Ranking_reactome'] = only_reactome['pvalue'].rank()\n",
    "    \n",
    "    only_gene_list['Ranking_genes'] = only_gene_list['pvalue'].rank()\n",
    "    \n",
    "    only_string['Ranking_PPI'] = only_string['pvalue'].rank()\n",
    "    \n",
    "    list_w_ranking = [only_KEGG, only_GO_MF, only_GO_CC, only_GO_BP, only_reactome, only_gene_list, only_string]\n",
    "    \n",
    "    return list_w_ranking\n",
    "    \n",
    "def final_ranking():\n",
    "    res = first_ranking()\n",
    "    \n",
    "    for_final = []\n",
    "    for x in res:\n",
    "        name = x.iloc[:,8:10] \n",
    "        for_final.append(name)\n",
    "        \n",
    "    \n",
    "    df_final = reduce(lambda left,right: pd.merge(left,right,on='drug'), for_final)\n",
    "    \n",
    "    df_final['ranking_avg'] = df_final[['Ranking_KEGG', 'Ranking_GO_MF', 'Ranking_GO_CC', 'Ranking_GO_BP', 'Ranking_reactome', 'Ranking_genes', 'Ranking_PPI']].mean(axis=1)\n",
    "    df_final = df_final.sort_values(by=['ranking_avg'])\n",
    "    print(df_final)\n",
    "    print(df_final.head(20)) \n",
    "\n",
    "print(\"First 1000 drugs ranking\")\n",
    "final_ranking() "
   ]
  }
 ],
 "metadata": {
  "kernelspec": {
   "display_name": "Python 3",
   "language": "python",
   "name": "python3"
  },
  "language_info": {
   "codemirror_mode": {
    "name": "ipython",
    "version": 3
   },
   "file_extension": ".py",
   "mimetype": "text/x-python",
   "name": "python",
   "nbconvert_exporter": "python",
   "pygments_lexer": "ipython3",
   "version": "3.7.3"
  }
 },
 "nbformat": 4,
 "nbformat_minor": 2
}
