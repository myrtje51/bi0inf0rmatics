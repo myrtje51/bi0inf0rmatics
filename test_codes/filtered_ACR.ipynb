{
 "cells": [
  {
   "cell_type": "code",
   "execution_count": 7,
   "metadata": {},
   "outputs": [],
   "source": [
    "import pandas as pd\n",
    "\n",
    "class ACRfilter: \n",
    "    def get_ACRfilter(self): \n",
    "        \"\"\"\n",
    "        Function: \n",
    "        This function should return a list of genes that are present in 2 or more categories. As input the Ageing Clusters Resource\n",
    "        is used. \n",
    "\n",
    "        Variables: \n",
    "        ACR = the list of ageing related genes categorized in 4 different categories. \n",
    "        ACR_filter = the same list of ageing related genes but filtered by being present in two or more categories.\n",
    "        \"\"\"\n",
    "        ACR = pd.read_excel(\"10522_2017_9741_MOESM4_ESM.xls\")\n",
    "        ACR_filter = ACR[(ACR['Cate-gories']>1)] \n",
    "        ACR_filter.to_csv(\"Filtered_ACR.tsv\", sep='\\t')\n",
    "        get_genes = pd.read_csv(\"Filtered_ACR.tsv\", sep='\\t')\n",
    "        just = get_genes['Entrez Gene ID']\n",
    "        just.to_csv(\"just_gene_entrez_ageing.tsv\", sep=\"\\t\", header=True) \n",
    "    \n",
    "    \n",
    "\n",
    "def main():\n",
    "    \"\"\"\n",
    "    Function: calls the class ACRfilter. This can also be done in a different script because it's a class. This just kind of \n",
    "    shows you how you can call a class if you decide to use it in a different code. Don't forget to import it. \n",
    "    \"\"\"\n",
    "    get_filtered_genes = ACRfilter()\n",
    "    print(get_filtered_genes.get_ACRfilter())  \n",
    "\n",
    "main() "
   ]
  },
  {
   "cell_type": "code",
   "execution_count": null,
   "metadata": {},
   "outputs": [],
   "source": []
  }
 ],
 "metadata": {
  "kernelspec": {
   "display_name": "Python 3",
   "language": "python",
   "name": "python3"
  },
  "language_info": {
   "codemirror_mode": {
    "name": "ipython",
    "version": 3
   },
   "file_extension": ".py",
   "mimetype": "text/x-python",
   "name": "python",
   "nbconvert_exporter": "python",
   "pygments_lexer": "ipython3",
   "version": "3.7.3"
  }
 },
 "nbformat": 4,
 "nbformat_minor": 2
}
