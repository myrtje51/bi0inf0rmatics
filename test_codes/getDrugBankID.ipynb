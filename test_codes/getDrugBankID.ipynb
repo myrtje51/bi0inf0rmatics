{
 "cells": [
  {
   "cell_type": "code",
   "execution_count": 9,
   "metadata": {},
   "outputs": [],
   "source": [
    "import pandas as pd \n",
    "import numpy as np\n",
    "\n",
    "def STITCHgetDBID():\n",
    "    \"\"\"\n",
    "    Function: \n",
    "    This function opens two datasets, one of the datasets is a dataset downloaded from DrugBank. This dataset contains all \n",
    "    DrugBank ID's with other different ID's so that you can easily map DrugBank data to other data. The other dataset contains\n",
    "    a list of CID's and InChIKeys. This dataset gets mapped against the other DrugBank dataset using the InChIKey. All the \n",
    "    unnecessary columns are deleted. This mapped dataset is then mapped again. This time to the STITCH dataset with chemical-\n",
    "    protein interactions. You will end up with a dataset with the chemical-protein interactions and the DrugBank ID. \n",
    "    \n",
    "    Variables: \n",
    "    structure_links = a dataset with DrugBank ID's and corresponding other ID's. Later on duplicates are dropped from this dataset. \n",
    "    CID_InchiKey = a dataset with the CID and the corresponding InchiKey. Later on duplicates are dropped from this dataset.  \n",
    "    merged = the mapped dataset that contains of structure_links and CID_InchiKey. This is mapped based on the InChIKey. \n",
    "    merged_filtered = The same dataset as merged but filtered. Some columns that are not needed are dropped.  \n",
    "    STITCH_data = the dataset taken from STITCH. This has been filtered by a combined_score of 700 or higher. \n",
    "    mapped = a dataset that mapped the STITCH_data and the merged_filtered data using the \"CID\" column.  \n",
    "    \n",
    "    \"\"\"\n",
    "    structure_links = pd.read_csv(\"structure_links.csv\")\n",
    "    CID_InchiKey = pd.read_csv(\"resp_text_actions.txt\")\n",
    "    \n",
    "    CID_InchiKey = CID_InchiKey.drop_duplicates()\n",
    "    structure_links = structure_links.drop_duplicates()\n",
    "    \n",
    "    CID_InchiKey['InChIKey']=CID_InchiKey['InChIKey'].astype(str)\n",
    "    structure_links['InChIKey']=structure_links['InChIKey'].astype(str)\n",
    "    \n",
    "    merged = pd.merge(CID_InchiKey, structure_links, on=[\"InChIKey\"])\n",
    "    merged_filtered = merged.drop(['CAS Number', 'InChI', 'SMILES', 'Formula', 'KEGG Compound ID', 'KEGG Drug ID', 'PubChem Compound ID', 'PubChem Substance ID', 'ChEBI ID', 'ChEMBL ID', 'HET ID', 'ChemSpider ID', 'BindingDB ID'], axis=1) \n",
    "    \n",
    "    STITCH_data = pd.read_csv(\"actions.v5.0.700.t.d.tsv\", sep=\"\\t\")\n",
    "    STITCH_data = STITCH_data.rename(columns={\"item_id_a\": \"CID\"})\n",
    "    STITCH_data['CID'] = STITCH_data['CID'].map(lambda x: x.lstrip('CIDms'))\n",
    "    \n",
    "    merged_filtered['CID']=merged_filtered['CID'].astype(int)\n",
    "    STITCH_data['CID']=STITCH_data['CID'].astype(int)\n",
    "    \n",
    "    mapped = pd.merge(merged_filtered, STITCH_data, on=[\"CID\"])\n",
    "    #mapped = mapped[mapped['Drug Groups'].str.contains(\"approved\") | mapped['Drug Groups'].str.contains(\"investigational\") | mapped['Drug Groups'].str.contains(\"experimental\")]\n",
    "    mapped = mapped.drop(['mode', 'action', 'a_is_acting', 'score'], axis=1)\n",
    "    \n",
    "    mapped.to_csv(\"mapped_DB_STITCH_actions_first.tsv\", sep='\\t')\n",
    "    \n",
    "    \n",
    "def main():\n",
    "    STITCHgetDBID() \n",
    "    \n",
    "main() "
   ]
  },
  {
   "cell_type": "code",
   "execution_count": null,
   "metadata": {},
   "outputs": [],
   "source": []
  }
 ],
 "metadata": {
  "kernelspec": {
   "display_name": "Python 3",
   "language": "python",
   "name": "python3"
  },
  "language_info": {
   "codemirror_mode": {
    "name": "ipython",
    "version": 3
   },
   "file_extension": ".py",
   "mimetype": "text/x-python",
   "name": "python",
   "nbconvert_exporter": "python",
   "pygments_lexer": "ipython3",
   "version": "3.7.3"
  }
 },
 "nbformat": 4,
 "nbformat_minor": 2
}
