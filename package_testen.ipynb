{
 "cells": [
  {
   "cell_type": "code",
   "execution_count": null,
   "metadata": {},
   "outputs": [],
   "source": [
    "import rpy2.robjects as robjects\n",
    "from drfeelgood import biomart\n",
    "from drfeelgood import GiveMeTheDrugs\n",
    "from drfeelgood import Ranking\n",
    "\n",
    "#to prep the databases.\n",
    "#choose out of the following which databases you want to use for the prediction: \n",
    "#KEGG, Reactome, GO_BP, GO_MF, GO_CC, genes, STRING \n",
    "ACR_genes = robjects.r(\"scan('/home/mhaan/genes_diabetes_mellitus.txt', what='', sep='\\n', skip = 1)\")\n",
    "databases_l = ['bp', 'cc', 'mf', 'Genes', 'KEGG', 'reactome']\n",
    "GMTD = GiveMeTheDrugs(ACR_genes, databases_l)\n",
    "\n",
    "#to enrich the databases + genes against the drugs. \n",
    "enrichment = GMTD.DrugDb_enrich()\n",
    "\n",
    "#to rank the enrichment results. \n",
    "ranking = GMTD.final_ranking(enrichment)\n",
    "\n",
    "#to print the top 40 of the ranking sorted by the average ranking.  \n",
    "print(ranking.tail(30)) "
   ]
  },
  {
   "cell_type": "code",
   "execution_count": null,
   "metadata": {},
   "outputs": [],
   "source": [
    "import pandas as pd\n",
    "\n",
    "DMD = pd.read_csv('/home/mhaan/diabetes_mellitus_drugs.tsv', sep='\\t')\n",
    "DMD_list = set(DMD['Name'].unique()) \n",
    " \n",
    "auc50 = GMTD.rocauc_maker(DMD_list, 50)"
   ]
  },
  {
   "cell_type": "code",
   "execution_count": null,
   "metadata": {},
   "outputs": [],
   "source": []
  },
  {
   "cell_type": "code",
   "execution_count": null,
   "metadata": {},
   "outputs": [],
   "source": []
  }
 ],
 "metadata": {
  "kernelspec": {
   "display_name": "Python 3",
   "language": "python",
   "name": "python3"
  },
  "language_info": {
   "codemirror_mode": {
    "name": "ipython",
    "version": 3
   },
   "file_extension": ".py",
   "mimetype": "text/x-python",
   "name": "python",
   "nbconvert_exporter": "python",
   "pygments_lexer": "ipython3",
   "version": "3.7.4"
  }
 },
 "nbformat": 4,
 "nbformat_minor": 2
}
